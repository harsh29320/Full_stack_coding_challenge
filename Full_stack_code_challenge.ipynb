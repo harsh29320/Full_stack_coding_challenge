{
 "cells": [
  {
   "cell_type": "code",
   "execution_count": 1,
   "metadata": {
    "collapsed": true
   },
   "outputs": [],
   "source": [
    "import pandas as pd"
   ]
  },
  {
   "cell_type": "code",
   "execution_count": 2,
   "metadata": {
    "collapsed": true
   },
   "outputs": [],
   "source": [
    "df = pd.read_csv('gps_can_data.csv')"
   ]
  },
  {
   "cell_type": "code",
   "execution_count": 3,
   "metadata": {},
   "outputs": [
    {
     "data": {
      "text/html": [
       "<div>\n",
       "<style>\n",
       "    .dataframe thead tr:only-child th {\n",
       "        text-align: right;\n",
       "    }\n",
       "\n",
       "    .dataframe thead th {\n",
       "        text-align: left;\n",
       "    }\n",
       "\n",
       "    .dataframe tbody tr th {\n",
       "        vertical-align: top;\n",
       "    }\n",
       "</style>\n",
       "<table border=\"1\" class=\"dataframe\">\n",
       "  <thead>\n",
       "    <tr style=\"text-align: right;\">\n",
       "      <th></th>\n",
       "      <th>message_id</th>\n",
       "      <th>dlc</th>\n",
       "      <th>payload</th>\n",
       "      <th>puc_id</th>\n",
       "      <th>ts</th>\n",
       "      <th>gps_id</th>\n",
       "      <th>latitude</th>\n",
       "      <th>longitude</th>\n",
       "      <th>groundspeed</th>\n",
       "      <th>truecourse</th>\n",
       "    </tr>\n",
       "  </thead>\n",
       "  <tbody>\n",
       "    <tr>\n",
       "      <th>0</th>\n",
       "      <td>NaN</td>\n",
       "      <td>NaN</td>\n",
       "      <td>NaN</td>\n",
       "      <td>8765</td>\n",
       "      <td>2016-10-28 05:00:00</td>\n",
       "      <td>681665533.0</td>\n",
       "      <td>35.05875</td>\n",
       "      <td>-80.38093</td>\n",
       "      <td>0.018412</td>\n",
       "      <td>0.0</td>\n",
       "    </tr>\n",
       "    <tr>\n",
       "      <th>1</th>\n",
       "      <td>0CFF1003</td>\n",
       "      <td>8.0</td>\n",
       "      <td>FFFFFFFFFFFFFFFF</td>\n",
       "      <td>8765</td>\n",
       "      <td>2016-10-28 05:00:00</td>\n",
       "      <td>NaN</td>\n",
       "      <td>NaN</td>\n",
       "      <td>NaN</td>\n",
       "      <td>NaN</td>\n",
       "      <td>NaN</td>\n",
       "    </tr>\n",
       "    <tr>\n",
       "      <th>2</th>\n",
       "      <td>1CFFFF17</td>\n",
       "      <td>8.0</td>\n",
       "      <td>9AFF64FFFFFFFFFF</td>\n",
       "      <td>8765</td>\n",
       "      <td>2016-10-28 05:00:00</td>\n",
       "      <td>NaN</td>\n",
       "      <td>NaN</td>\n",
       "      <td>NaN</td>\n",
       "      <td>NaN</td>\n",
       "      <td>NaN</td>\n",
       "    </tr>\n",
       "    <tr>\n",
       "      <th>3</th>\n",
       "      <td>0CFFFE17</td>\n",
       "      <td>8.0</td>\n",
       "      <td>3317FFFFFFFFFFFF</td>\n",
       "      <td>8765</td>\n",
       "      <td>2016-10-28 05:00:00</td>\n",
       "      <td>NaN</td>\n",
       "      <td>NaN</td>\n",
       "      <td>NaN</td>\n",
       "      <td>NaN</td>\n",
       "      <td>NaN</td>\n",
       "    </tr>\n",
       "    <tr>\n",
       "      <th>4</th>\n",
       "      <td>1CFFFE17</td>\n",
       "      <td>8.0</td>\n",
       "      <td>270000CCFFFFFFFF</td>\n",
       "      <td>8765</td>\n",
       "      <td>2016-10-28 05:00:00</td>\n",
       "      <td>NaN</td>\n",
       "      <td>NaN</td>\n",
       "      <td>NaN</td>\n",
       "      <td>NaN</td>\n",
       "      <td>NaN</td>\n",
       "    </tr>\n",
       "  </tbody>\n",
       "</table>\n",
       "</div>"
      ],
      "text/plain": [
       "  message_id  dlc           payload  puc_id                   ts       gps_id  \\\n",
       "0        NaN  NaN               NaN    8765  2016-10-28 05:00:00  681665533.0   \n",
       "1   0CFF1003  8.0  FFFFFFFFFFFFFFFF    8765  2016-10-28 05:00:00          NaN   \n",
       "2   1CFFFF17  8.0  9AFF64FFFFFFFFFF    8765  2016-10-28 05:00:00          NaN   \n",
       "3   0CFFFE17  8.0  3317FFFFFFFFFFFF    8765  2016-10-28 05:00:00          NaN   \n",
       "4   1CFFFE17  8.0  270000CCFFFFFFFF    8765  2016-10-28 05:00:00          NaN   \n",
       "\n",
       "   latitude  longitude  groundspeed  truecourse  \n",
       "0  35.05875  -80.38093     0.018412         0.0  \n",
       "1       NaN        NaN          NaN         NaN  \n",
       "2       NaN        NaN          NaN         NaN  \n",
       "3       NaN        NaN          NaN         NaN  \n",
       "4       NaN        NaN          NaN         NaN  "
      ]
     },
     "execution_count": 3,
     "metadata": {},
     "output_type": "execute_result"
    }
   ],
   "source": [
    "df.head()"
   ]
  },
  {
   "cell_type": "code",
   "execution_count": 4,
   "metadata": {},
   "outputs": [
    {
     "name": "stdout",
     "output_type": "stream",
     "text": [
      "63843\n"
     ]
    }
   ],
   "source": [
    "#Total number of GPS messages\n",
    "gps_msgs = df.gps_id.count()\n",
    "print(gps_msgs)"
   ]
  },
  {
   "cell_type": "code",
   "execution_count": 5,
   "metadata": {},
   "outputs": [
    {
     "name": "stdout",
     "output_type": "stream",
     "text": [
      "1099032\n"
     ]
    }
   ],
   "source": [
    "#Total CAN message\n",
    "can_msgs = df.message_id.count()\n",
    "print (can_msgs)"
   ]
  },
  {
   "cell_type": "code",
   "execution_count": 6,
   "metadata": {},
   "outputs": [
    {
     "name": "stdout",
     "output_type": "stream",
     "text": [
      "62\n"
     ]
    }
   ],
   "source": [
    "#Total number of unique CAN messages\n",
    "un_can_msgs = len(df.message_id.unique())\n",
    "print(un_can_msgs)"
   ]
  },
  {
   "cell_type": "code",
   "execution_count": 7,
   "metadata": {
    "collapsed": true
   },
   "outputs": [],
   "source": [
    "#Converting time datatype from object to datetime\n",
    "df['ts']= pd.to_datetime(df.ts)"
   ]
  },
  {
   "cell_type": "code",
   "execution_count": 8,
   "metadata": {},
   "outputs": [
    {
     "name": "stdout",
     "output_type": "stream",
     "text": [
      "0 days 20:34:58\n"
     ]
    }
   ],
   "source": [
    "#Total runtime\n",
    "runtime = df['ts'].iloc[-1] - df['ts'].iloc[1]\n",
    "print(runtime)"
   ]
  },
  {
   "cell_type": "code",
   "execution_count": 9,
   "metadata": {},
   "outputs": [
    {
     "name": "stdout",
     "output_type": "stream",
     "text": [
      "0.000232322121742\n"
     ]
    }
   ],
   "source": [
    "#Average CAN messages\n",
    "avg_can = can_msgs/runtime.seconds/gps_msgs\n",
    "print(avg_can)"
   ]
  },
  {
   "cell_type": "code",
   "execution_count": 10,
   "metadata": {},
   "outputs": [
    {
     "data": {
      "text/plain": [
       "Timestamp('2016-10-28 11:51:28')"
      ]
     },
     "execution_count": 10,
     "metadata": {},
     "output_type": "execute_result"
    }
   ],
   "source": [
    "#The first ts that contains most CAN messages\n",
    "df.groupby('ts').count().sort_values('message_id',ascending=False).index[0]"
   ]
  },
  {
   "cell_type": "code",
   "execution_count": 11,
   "metadata": {},
   "outputs": [
    {
     "data": {
      "text/plain": [
       "Timestamp('2016-10-28 08:56:35')"
      ]
     },
     "execution_count": 11,
     "metadata": {},
     "output_type": "execute_result"
    }
   ],
   "source": [
    "#The first ts that contains least CAN messages\n",
    "df.groupby('ts').count().sort_values('message_id').index[0] "
   ]
  },
  {
   "cell_type": "code",
   "execution_count": null,
   "metadata": {
    "collapsed": true
   },
   "outputs": [],
   "source": []
  }
 ],
 "metadata": {
  "kernelspec": {
   "display_name": "Python 3",
   "language": "python",
   "name": "python3"
  },
  "language_info": {
   "codemirror_mode": {
    "name": "ipython",
    "version": 3
   },
   "file_extension": ".py",
   "mimetype": "text/x-python",
   "name": "python",
   "nbconvert_exporter": "python",
   "pygments_lexer": "ipython3",
   "version": "3.6.2"
  }
 },
 "nbformat": 4,
 "nbformat_minor": 2
}
